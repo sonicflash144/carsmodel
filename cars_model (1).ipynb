{
  "cells": [
    {
      "cell_type": "code",
      "source": [
        "from google.colab import drive\n",
        "drive.mount('/content/drive')"
      ],
      "metadata": {
        "id": "-TeQ0Rzy89cf",
        "colab": {
          "base_uri": "https://localhost:8080/"
        },
        "outputId": "1b55f189-ca32-41d8-98d5-30426fecc1ac"
      },
      "id": "-TeQ0Rzy89cf",
      "execution_count": null,
      "outputs": [
        {
          "output_type": "stream",
          "name": "stdout",
          "text": [
            "Mounted at /content/drive\n"
          ]
        }
      ]
    },
    {
      "cell_type": "code",
      "execution_count": null,
      "id": "00f0d7e3",
      "metadata": {
        "id": "00f0d7e3"
      },
      "outputs": [],
      "source": [
        "import tensorflow as tf\n",
        "import pandas as pd\n",
        "import numpy as np\n",
        "import math\n",
        "import timeit\n",
        "import matplotlib.pyplot as plt\n",
        "from matplotlib import pyplot\n",
        "from six.moves import cPickle as pickle\n",
        "import os\n",
        "import platform\n",
        "from subprocess import check_output\n",
        "from PIL import Image           # The Python Image Library (PIL)\n",
        "import collections\n",
        "import keras\n",
        "\n",
        "# test harness for evaluating models on the cifar10 dataset\n",
        "import sys\n",
        "from keras.datasets import cifar10\n",
        "from keras.utils import to_categorical\n",
        "from keras.models import Sequential\n",
        "from keras.layers import Conv2D\n",
        "from keras.layers import MaxPooling2D\n",
        "from keras.layers import Dense\n",
        "from keras.layers import Flatten\n",
        "from keras.layers import BatchNormalization\n",
        "from keras.optimizers import SGD\n",
        "from keras.preprocessing.image import ImageDataGenerator\n",
        "from keras.layers import Dropout\n",
        "\n",
        "from tensorflow.keras.preprocessing.image import ImageDataGenerator\n",
        "from tensorflow.keras import optimizers, losses\n",
        "from tensorflow.keras.optimizers import RMSprop\n",
        "from tensorflow.keras.utils import img_to_array, load_img"
      ]
    },
    {
      "cell_type": "code",
      "execution_count": null,
      "id": "f9f85c34",
      "metadata": {
        "id": "f9f85c34"
      },
      "outputs": [],
      "source": [
        "os.environ[\"KMP_DUPLICATE_LIB_OK\"]=\"TRUE\"\n",
        "classes = ('airplane', 'automobile', 'bird', 'cat',\n",
        "           'deer', 'dog', 'frog', 'horse', 'ship', 'truck')\n",
        "numClasses = len(classes)\n",
        "\n",
        "img_rows, img_cols = 32, 32\n",
        "input_shape = (img_rows, img_cols, 3)\n",
        "\n",
        "def load_pickle(f):\n",
        "    version = platform.python_version_tuple()\n",
        "    if version[0] == '2':   \n",
        "        return  pickle.load(f)\n",
        "    elif version[0] == '3':\n",
        "        return  pickle.load(f, encoding='latin1')\n",
        "    raise ValueError(\"invalid python version: {}\".format(version))\n",
        "\n",
        "def load_CIFAR_batch(filename):\n",
        "    \"\"\" load single batch of cifar \"\"\"\n",
        "    with open(filename, 'rb') as f:\n",
        "        datadict = load_pickle(f)\n",
        "        X = datadict['data']\n",
        "        #print(len(X[0]))\n",
        "        Y = datadict['labels']\n",
        "        X = X.reshape(10000, 32, 32, 3)\n",
        "        #X = np.array(X)\n",
        "        Y = np.array(Y)\n",
        "        return X, Y\n",
        "\n",
        "def load_CIFAR10(ROOT):\n",
        "    \"\"\" load all of cifar \"\"\"\n",
        "    xs = []\n",
        "    ys = []\n",
        "    for b in range(1,6):    \n",
        "        f = os.path.join(ROOT, 'data_batch_%d' % (b, ))\n",
        "        X, Y = load_CIFAR_batch(f)\n",
        "        xs.append(X)\n",
        "        ys.append(Y)\n",
        "    Xtr = np.concatenate(xs)\n",
        "    Ytr = np.concatenate(ys)\n",
        "    del X, Y\n",
        "    Xte, Yte = load_CIFAR_batch(os.path.join(ROOT, 'test_batch'))\n",
        "    return Xtr, Ytr, Xte, Yte      "
      ]
    },
    {
      "cell_type": "code",
      "source": [
        "def get_CIFAR10_data(num_training=49000, num_validation=1000, num_test=10000):\n",
        "#def get_CIFAR10_data(num_training=100, num_validation=10, num_test=10):\n",
        "    # Load the raw CIFAR-10 data\n",
        "    cifar10_dir = '/content/drive/My Drive/ML/cifar-10-batches-py/'\n",
        "    X_train, y_train, X_test, y_test = load_CIFAR10(cifar10_dir)\n",
        "\n",
        "    # Subsample the data\n",
        "    mask = range(num_training, num_training + num_validation)\n",
        "    # X_train[num_training: num_training + num_validation]\n",
        "    X_val = X_train[mask]   \n",
        "    y_val = y_train[mask]\n",
        "    mask = range(num_training)\n",
        "    X_train = X_train[mask]\n",
        "    y_train = y_train[mask]\n",
        "    mask = range(num_test)\n",
        "    X_test = X_test[mask]\n",
        "    y_test = y_test[mask]\n",
        "\n",
        "    x_train = X_train.astype('float32')\n",
        "    x_test = X_test.astype('float32')\n",
        "\n",
        "    x_train /= 255\n",
        "    x_test /= 255\n",
        "\n",
        "    return x_train, y_train, X_val, y_val, x_test, y_test"
      ],
      "metadata": {
        "id": "zYXORh4VAhzw"
      },
      "id": "zYXORh4VAhzw",
      "execution_count": null,
      "outputs": []
    },
    {
      "cell_type": "code",
      "execution_count": null,
      "id": "0b59b872",
      "metadata": {
        "colab": {
          "base_uri": "https://localhost:8080/"
        },
        "id": "0b59b872",
        "outputId": "c082f740-8511-4ba7-b604-6ffe3337faa2"
      },
      "outputs": [
        {
          "output_type": "stream",
          "name": "stdout",
          "text": [
            "Train data shape:  (100, 32, 32, 3)\n",
            "Train labels shape:  (100, 10)\n",
            "Validation data shape:  (10, 32, 32, 3)\n",
            "Validation labels shape:  (100, 10, 10)\n",
            "Test data shape:  (10, 32, 32, 3)\n",
            "Test labels shape:  (10, 10)\n"
          ]
        }
      ],
      "source": [
        "# Invoke the above function to get our data.\n",
        "x_train, y_train, x_val, y_val, x_test, y_test = get_CIFAR10_data()\n",
        "\n",
        "# One hot encoding\n",
        "y_train = keras.utils.to_categorical(y_train, numClasses)\n",
        "y_test = keras.utils.to_categorical(y_test, numClasses)\n",
        "\n",
        "# NOTE: Passing the y_train for y_val\n",
        "y_val = keras.utils.to_categorical(y_train, numClasses)\n",
        "\n",
        "print('Train data shape: ', x_train.shape)\n",
        "print('Train labels shape: ', y_train.shape)\n",
        "print('Validation data shape: ', x_val.shape)\n",
        "print('Validation labels shape: ', y_val.shape)\n",
        "print('Test data shape: ', x_test.shape)\n",
        "print('Test labels shape: ', y_test.shape)"
      ]
    },
    {
      "cell_type": "code",
      "source": [
        "\n",
        "# The images are index 0 of the dictionary\n",
        "# They are stored as a 3072 element vector so we need to reshape this into a tensor.\n",
        "# The first dimension is the red/green/blue channel, the second is the pixel row, the third is the pixel column\n",
        "im = x_train[0].reshape(3,32,32)\n",
        "\n",
        "# PIL and matplotlib want the red/green/blue channels last in the matrix. So we just need to rearrange \n",
        "# the tensor to put that dimension last.\n",
        "im = np.transpose(im, axes=[1, 2, 0])  # Put the 0-th dimension at the end\n",
        "\n",
        "# Image are supposed to be unsigned 8-bit integers. If we keep the raw images, then\n",
        "# this line is not needed. However, if we normalize or whiten the image, then the values become\n",
        "# floats. So we need to convert them back to uint8s.\n",
        "im = (im * 255).astype(np.uint8)\n",
        "im = np.uint8(im)  \n",
        "\n",
        "im=Image.fromarray(im)\n",
        "\n",
        "plt.imshow(im);\n",
        "plt.title(\"test\");\n",
        "plt.axis('off');"
      ],
      "metadata": {
        "colab": {
          "base_uri": "https://localhost:8080/",
          "height": 264
        },
        "id": "bLTyf4NRDZ6U",
        "outputId": "82fcfca2-fd2f-411d-89c0-31c076e4fb60"
      },
      "id": "bLTyf4NRDZ6U",
      "execution_count": null,
      "outputs": [
        {
          "output_type": "display_data",
          "data": {
            "text/plain": [
              "<Figure size 432x288 with 1 Axes>"
            ],
            "image/png": "[encoded data removed]"
          },
          "metadata": {
            "needs_background": "light"
          }
        }
      ]
    },
    {
      "cell_type": "code",
      "execution_count": null,
      "id": "15504b28",
      "metadata": {
        "id": "15504b28"
      },
      "outputs": [],
      "source": [
        "class myCallback(tf.keras.callbacks.Callback):\n",
        "    def on_epoch_end(self, epoch, logs={}):\n",
        "        if logs.get('accuracy') is not None and logs.get('accuracy') > 0.99:\n",
        "            print(\"\\nReached 99% accuracy so cancelling training!\")\n",
        "            self.model.stop_training = True"
      ]
    },
    {
      "cell_type": "code",
      "source": [
        "x_train.shape"
      ],
      "metadata": {
        "colab": {
          "base_uri": "https://localhost:8080/"
        },
        "id": "5RuOj559Hdy0",
        "outputId": "af5ba894-dd0f-43fc-f16f-328a4fe771c0"
      },
      "id": "5RuOj559Hdy0",
      "execution_count": null,
      "outputs": [
        {
          "output_type": "execute_result",
          "data": {
            "text/plain": [
              "(49000, 32, 32, 3)"
            ]
          },
          "metadata": {},
          "execution_count": 35
        }
      ]
    },
    {
      "cell_type": "code",
      "execution_count": null,
      "id": "549e378a",
      "metadata": {
        "id": "549e378a"
      },
      "outputs": [],
      "source": [
        "def train_cars_model():\n",
        "    \n",
        "    # Data augmentation\n",
        "    train_datagen = ImageDataGenerator(horizontal_flip=True, height_shift_range=0.1, width_shift_range=0.1)\n",
        "    train_iter = train_datagen.flow(x_train, y_train, batch_size=64)\n",
        "\n",
        "    # Instantiate the callback\n",
        "    # callbacks = myCallback()\n",
        "\n",
        "    ### START CODE HERE\n",
        "\n",
        "    # Define the model\n",
        "    model = Sequential()\n",
        "    model.add(Conv2D(32, (3, 3), activation='relu', kernel_initializer='he_uniform', padding='same', input_shape=(32, 32, 3)))\n",
        "    model.add(BatchNormalization())\n",
        "    model.add(Conv2D(32, (3, 3), activation='relu', kernel_initializer='he_uniform', padding='same'))\n",
        "    model.add(BatchNormalization())\n",
        "    model.add(MaxPooling2D((2, 2)))\n",
        "    model.add(Dropout(0.2))\n",
        "    model.add(Conv2D(64, (3, 3), activation='relu', kernel_initializer='he_uniform', padding='same'))\n",
        "    model.add(BatchNormalization())\n",
        "    model.add(Conv2D(64, (3, 3), activation='relu', kernel_initializer='he_uniform', padding='same'))\n",
        "    model.add(BatchNormalization())\n",
        "    model.add(MaxPooling2D((2, 2)))\n",
        "    model.add(Dropout(0.2))\n",
        "    model.add(Conv2D(128, (3, 3), activation='relu', kernel_initializer='he_uniform', padding='same'))\n",
        "    model.add(BatchNormalization())\n",
        "    model.add(Conv2D(128, (3, 3), activation='relu', kernel_initializer='he_uniform', padding='same'))\n",
        "    model.add(BatchNormalization())\n",
        "    model.add(MaxPooling2D((2, 2)))\n",
        "    model.add(Dropout(0.2))\n",
        "    model.add(Flatten())\n",
        "    model.add(Dense(128, activation='relu', kernel_initializer='he_uniform'))\n",
        "    model.add(Dropout(0.2))\n",
        "    model.add(Dense(10, activation='softmax'))\n",
        "    \n",
        "\n",
        "    # Compile the model\n",
        "    # SGD\n",
        "    model.compile(loss='categorical_crossentropy',\n",
        "                  optimizer=RMSprop(learning_rate=0.001),\n",
        "                  metrics=['accuracy']) \n",
        "    \n",
        "    # Specify the method to load images from a directory and pass in the appropriate arguments:\n",
        "    # - directory: should be a relative path to the directory containing the data\n",
        "    # - targe_size: set this equal to the resolution of each image (excluding the color dimension)\n",
        "    # - batch_size: number of images the generator yields when asked for a next batch.\n",
        "    # - class_mode: How the labels are represented. Should be one of \"binary\", \"categorical\" or \"sparse\".\n",
        "    \n",
        "    # fits the model on batches with real-time data augmentation:\n",
        "    history= model.fit(\n",
        "                train_iter,\n",
        "                steps_per_epoch= int(x_train.shape[0] / 64),\n",
        "                epochs=100,\n",
        "                validation_data=(x_test, y_test),\n",
        "                shuffle=True,\n",
        "                verbose=2, \n",
        "                # callbacks=[callbacks],\n",
        "                initial_epoch= 0\n",
        "            )\n",
        "   \n",
        "\n",
        "    return history"
      ]
    },
    {
      "cell_type": "code",
      "execution_count": null,
      "id": "9840aaf2",
      "metadata": {
        "colab": {
          "base_uri": "https://localhost:8080/",
          "height": 330
        },
        "id": "9840aaf2",
        "outputId": "bb115a33-77b3-49c0-efc9-036255b827c2"
      },
      "outputs": [
        {
          "output_type": "stream",
          "name": "stdout",
          "text": [
            "1/1 - 4s - loss: 4.0597 - accuracy: 0.1094 - val_loss: 6.4661 - val_accuracy: 0.0000e+00 - 4s/epoch - 4s/step\n",
            "[0.109375]\n"
          ]
        },
        {
          "output_type": "display_data",
          "data": {
            "text/plain": [
              "<Figure size 432x288 with 1 Axes>"
            ],
            "image/png": "[encoded data removed]"
          },
          "metadata": {
            "needs_background": "light"
          }
        }
      ],
      "source": [
        "hist = train_cars_model()\n",
        "pyplot.title('Classification Accuracy')\n",
        "pyplot.xlabel('Epoch')\n",
        "pyplot.ylabel('Accuracy')\n",
        "pyplot.plot(hist.history['accuracy'], color='blue', label='train')\n",
        "pyplot.plot(hist.history['val_accuracy'], color='orange', label='val')\n",
        "pyplot.legend(loc='lower right')\n",
        "print (hist.history['accuracy'])\n",
        "\n",
        "# save model\n",
        "hist.model.save(\"/content/drive/My Drive/ML/saved_model.h5\");"
      ]
    },
    {
      "cell_type": "code",
      "source": [
        "# ## load tensorflow model\n",
        "new_model = tf.keras.models.load_model(\"/content/drive/My Drive/ML/saved_model.h5\")\n",
        "print(new_model.summary())\n",
        "loss, acc = new_model.evaluate(x_test, y_test, verbose=2)\n",
        "print('> %.3f' % (acc * 100.0))"
      ],
      "metadata": {
        "colab": {
          "base_uri": "https://localhost:8080/"
        },
        "id": "MNtJ42xqYHDP",
        "outputId": "12ade61f-a1b4-42a5-b85d-4dae8c467e3f"
      },
      "id": "MNtJ42xqYHDP",
      "execution_count": null,
      "outputs": [
        {
          "output_type": "stream",
          "name": "stdout",
          "text": [
            "Model: \"sequential_2\"\n",
            "_________________________________________________________________\n",
            " Layer (type)                Output Shape              Param #   \n",
            "=================================================================\n",
            " conv2d_12 (Conv2D)          (None, 32, 32, 32)        896       \n",
            "                                                                 \n",
            " batch_normalization_12 (Bat  (None, 32, 32, 32)       128       \n",
            " chNormalization)                                                \n",
            "                                                                 \n",
            " conv2d_13 (Conv2D)          (None, 32, 32, 32)        9248      \n",
            "                                                                 \n",
            " batch_normalization_13 (Bat  (None, 32, 32, 32)       128       \n",
            " chNormalization)                                                \n",
            "                                                                 \n",
            " max_pooling2d_6 (MaxPooling  (None, 16, 16, 32)       0         \n",
            " 2D)                                                             \n",
            "                                                                 \n",
            " dropout_8 (Dropout)         (None, 16, 16, 32)        0         \n",
            "                                                                 \n",
            " conv2d_14 (Conv2D)          (None, 16, 16, 64)        18496     \n",
            "                                                                 \n",
            " batch_normalization_14 (Bat  (None, 16, 16, 64)       256       \n",
            " chNormalization)                                                \n",
            "                                                                 \n",
            " conv2d_15 (Conv2D)          (None, 16, 16, 64)        36928     \n",
            "                                                                 \n",
            " batch_normalization_15 (Bat  (None, 16, 16, 64)       256       \n",
            " chNormalization)                                                \n",
            "                                                                 \n",
            " max_pooling2d_7 (MaxPooling  (None, 8, 8, 64)         0         \n",
            " 2D)                                                             \n",
            "                                                                 \n",
            " dropout_9 (Dropout)         (None, 8, 8, 64)          0         \n",
            "                                                                 \n",
            " conv2d_16 (Conv2D)          (None, 8, 8, 128)         73856     \n",
            "                                                                 \n",
            " batch_normalization_16 (Bat  (None, 8, 8, 128)        512       \n",
            " chNormalization)                                                \n",
            "                                                                 \n",
            " conv2d_17 (Conv2D)          (None, 8, 8, 128)         147584    \n",
            "                                                                 \n",
            " batch_normalization_17 (Bat  (None, 8, 8, 128)        512       \n",
            " chNormalization)                                                \n",
            "                                                                 \n",
            " max_pooling2d_8 (MaxPooling  (None, 4, 4, 128)        0         \n",
            " 2D)                                                             \n",
            "                                                                 \n",
            " dropout_10 (Dropout)        (None, 4, 4, 128)         0         \n",
            "                                                                 \n",
            " flatten_2 (Flatten)         (None, 2048)              0         \n",
            "                                                                 \n",
            " dense_4 (Dense)             (None, 128)               262272    \n",
            "                                                                 \n",
            " dropout_11 (Dropout)        (None, 128)               0         \n",
            "                                                                 \n",
            " dense_5 (Dense)             (None, 10)                1290      \n",
            "                                                                 \n",
            "=================================================================\n",
            "Total params: 552,362\n",
            "Trainable params: 551,466\n",
            "Non-trainable params: 896\n",
            "_________________________________________________________________\n",
            "None\n"
          ]
        },
        {
          "output_type": "stream",
          "name": "stderr",
          "text": [
            "WARNING:tensorflow:5 out of the last 5 calls to <function Model.make_test_function.<locals>.test_function at 0x7fc7ade864c0> triggered tf.function retracing. Tracing is expensive and the excessive number of tracings could be due to (1) creating @tf.function repeatedly in a loop, (2) passing tensors with different shapes, (3) passing Python objects instead of tensors. For (1), please define your @tf.function outside of the loop. For (2), @tf.function has reduce_retracing=True option that can avoid unnecessary retracing. For (3), please refer to https://www.tensorflow.org/guide/function#controlling_retracing and https://www.tensorflow.org/api_docs/python/tf/function for  more details.\n"
          ]
        },
        {
          "output_type": "stream",
          "name": "stdout",
          "text": [
            "1/1 - 1s - loss: 6.4661 - accuracy: 0.0000e+00 - 702ms/epoch - 702ms/step\n",
            "> 0.000\n"
          ]
        }
      ]
    },
    {
      "cell_type": "code",
      "execution_count": null,
      "id": "8430a185",
      "metadata": {
        "id": "8430a185",
        "outputId": "9b048b62-f056-4d0b-e5c8-f834a84cf348",
        "colab": {
          "base_uri": "https://localhost:8080/"
        }
      },
      "outputs": [
        {
          "output_type": "stream",
          "name": "stdout",
          "text": [
            "1/1 [==============================] - 0s 193ms/step\n",
            "[[3.5888009e-04 3.5732093e-03 2.6324212e-03 6.6485238e-04 1.6771468e-04\n",
            "  4.2071808e-04 2.8080183e-09 1.5419755e-03 2.1147267e-04 9.9042881e-01]]\n",
            "/content/drive/My Drive/ML/carcool.png is NOT a car\n"
          ]
        }
      ],
      "source": [
        "path = '/content/drive/My Drive/ML/carcool.png'\n",
        "img = load_img(path, target_size=(32, 32))\n",
        "x = img_to_array(img)\n",
        "x /= 255\n",
        "x = np.expand_dims(x, axis=0)\n",
        "\n",
        "images = np.vstack([x])\n",
        "classes = hist.model.predict(images, batch_size=10)\n",
        "print(classes)\n",
        "if max(classes[0]) == classes[0][1]:\n",
        "  print(path + \" is a car\")\n",
        "else:\n",
        "  print(path + \" is NOT a car\")"
      ]
    }
  ],
  "metadata": {
    "kernelspec": {
      "display_name": "Python 3 (ipykernel)",
      "language": "python",
      "name": "python3"
    },
    "language_info": {
      "codemirror_mode": {
        "name": "ipython",
        "version": 3
      },
      "file_extension": ".py",
      "mimetype": "text/x-python",
      "name": "python",
      "nbconvert_exporter": "python",
      "pygments_lexer": "ipython3",
      "version": "3.10.9"
    },
    "colab": {
      "provenance": []
    },
    "gpuClass": "standard"
  },
  "nbformat": 4,
  "nbformat_minor": 5
}